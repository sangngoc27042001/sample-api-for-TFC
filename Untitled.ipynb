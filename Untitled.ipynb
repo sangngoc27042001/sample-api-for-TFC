{
 "cells": [
  {
   "cell_type": "code",
   "execution_count": 1,
   "id": "stopped-halloween",
   "metadata": {},
   "outputs": [
    {
     "name": "stderr",
     "output_type": "stream",
     "text": [
      "c:\\users\\sang\\appdata\\local\\programs\\python\\python38\\lib\\site-packages\\flask_sqlalchemy\\__init__.py:872: FSADeprecationWarning: SQLALCHEMY_TRACK_MODIFICATIONS adds significant overhead and will be disabled by default in the future.  Set it to True or False to suppress this warning.\n",
      "  warnings.warn(FSADeprecationWarning(\n"
     ]
    }
   ],
   "source": [
    "from database import Database"
   ]
  },
  {
   "cell_type": "code",
   "execution_count": 14,
   "id": "systematic-powder",
   "metadata": {},
   "outputs": [
    {
     "data": {
      "text/plain": [
       "{'teacher_list': [{'id': 1,\n",
       "   'name': 'Vo Ngoc Sang',\n",
       "   'role': 'teacher',\n",
       "   'course': 'Ielts'},\n",
       "  {'id': 2, 'name': 'Vo Ngoc Thien', 'role': 'teacher', 'course': 'Ielts'}],\n",
       " 'stu_list': [{'id': 3, 'name': 'A', 'role': 'student', 'course': 'Ielts'},\n",
       "  {'id': 4, 'name': 'B', 'role': 'student', 'course': 'Ielts'},\n",
       "  {'id': 5, 'name': 'C', 'role': 'student', 'course': 'Ielts'}],\n",
       " 'course_list': [{'c_name': 'Ielts'}]}"
      ]
     },
     "execution_count": 14,
     "metadata": {},
     "output_type": "execute_result"
    }
   ],
   "source": [
    "Database.get_managae_data()"
   ]
  },
  {
   "cell_type": "code",
   "execution_count": 3,
   "id": "reflected-bundle",
   "metadata": {},
   "outputs": [],
   "source": [
    "Course='Ielts'"
   ]
  },
  {
   "cell_type": "code",
   "execution_count": 6,
   "id": "agreed-accommodation",
   "metadata": {},
   "outputs": [],
   "source": [
    "Database.add_user('Vo Ngoc Thien','teacher',Course)"
   ]
  },
  {
   "cell_type": "code",
   "execution_count": 11,
   "id": "entertaining-petroleum",
   "metadata": {},
   "outputs": [],
   "source": [
    "Database.add_user('C','student',Course)"
   ]
  },
  {
   "cell_type": "code",
   "execution_count": 13,
   "id": "likely-clerk",
   "metadata": {},
   "outputs": [],
   "source": [
    "Database.add_course(Course)"
   ]
  }
 ],
 "metadata": {
  "kernelspec": {
   "display_name": "Python 3",
   "language": "python",
   "name": "python3"
  },
  "language_info": {
   "codemirror_mode": {
    "name": "ipython",
    "version": 3
   },
   "file_extension": ".py",
   "mimetype": "text/x-python",
   "name": "python",
   "nbconvert_exporter": "python",
   "pygments_lexer": "ipython3",
   "version": "3.8.5"
  }
 },
 "nbformat": 4,
 "nbformat_minor": 5
}
